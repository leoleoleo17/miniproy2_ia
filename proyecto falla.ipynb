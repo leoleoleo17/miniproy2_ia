{
 "cells": [
  {
   "cell_type": "code",
   "execution_count": 40,
   "id": "3fae664e",
   "metadata": {},
   "outputs": [],
   "source": [
    "from busqueda import *\n",
    "from tiempos import compara_funciones\n",
    "from testSuites import test_suite_heuristicas_triangulos\n",
    "from ambientes import OchoReinas, ViajeRumania, Laberinto, Rompecabezas"
   ]
  },
  {
   "cell_type": "code",
   "execution_count": 85,
   "id": "7352c00b",
   "metadata": {},
   "outputs": [],
   "source": [
    "import numpy as np\n",
    "import networkx as nx\n",
    "import matplotlib.pyplot as plt\n",
    "import random\n",
    "class triangulo_magico:\n",
    "    '''\n",
    "    @Autores: Juan Esteban Gonzalez y Leonardo Luengas\n",
    "    \n",
    "    Clase que construye un triangulo mágico con n nodos en cada arista.\n",
    "    Objetivo: Encontrar una asignación de los números naturales del 1 hasta el 3(n-1) de tal forma que la suma de todos los\n",
    "    números en cada arista sea igual y no se repitan números en ningún nodo.\n",
    "    Input: n, numero de vértices por lado\n",
    "    Output: triángulo mágico de n vértices por lado\n",
    "    '''\n",
    "    def __init__(self, n=3):\n",
    "        '''\n",
    "        Inicializa el triángulo mágico con una asignación aleatoria de números.\n",
    "        '''\n",
    "        l = [x for x in range(1,3*n-2)]\n",
    "        random.shuffle(l)\n",
    "        self.estado_inicial= l\n",
    "        self.vertices = n\n",
    "        self.max = max(l)\n",
    "        \n",
    "    def pintar_estado(self,estado):\n",
    "        '''\n",
    "        Input: recibe una lista que representa un estado del triángulo mágico con n vértices en cada lado\n",
    "        Output: Dibuja la representación gráfica del triángulo mágico\n",
    "        '''\n",
    "        assert len(estado) == len(self.estado_inicial), f\"{estado} no es compatible con un triangulo mágico de {self.vertices} vértices\" \n",
    "        G = nx.Graph()\n",
    "        G.add_nodes_from(estado)\n",
    "        estado1 = estado[1:]\n",
    "        estado1.append(estado[0])\n",
    "        E = [e for e in zip(estado,estado1)]\n",
    "        G.add_edges_from(E)\n",
    "        order = {}\n",
    "        n = self.vertices\n",
    "        for i in range(n):\n",
    "            e1 = estado[i]\n",
    "            e2 = estado[i+n-1]\n",
    "            e3 = estado[i+2*(n-1)-1]\n",
    "            order[e1] = [i,0]\n",
    "            order[e2] = [(n-1)-(i/2),(np.sqrt(3)*i)/2]\n",
    "            order[e3] = [(n-i)/2,(np.sqrt(3)*(n-i))/2]\n",
    "        nx.draw_networkx(G,pos=order)\n",
    "        plt.show()\n",
    "        \n",
    "    def acciones_aplicables(self, estado):\n",
    "        '''\n",
    "        Input: estado, una lista que representa el triángulo mágico con n vértices en cada lado\n",
    "        Output: Una lista con todas las tuplas que se pueden intercambiar para un estado. Son listas con dos tuplas de la forma\n",
    "        (indice_del_elemento, elemento)\n",
    "        '''\n",
    "        assert len(estado) == len(self.estado_inicial), f\"{estado} no es compatible con un triangulo mágico de {self.vertices} vértices\" \n",
    "        res = []\n",
    "        tot = 3*(self.vertices-1)+1\n",
    "        for i, e in enumerate(estado):\n",
    "            if e != self.max:\n",
    "                inicial = (i,e)\n",
    "                temp = [(f,y) for f,y in enumerate(estado) if y != e and y != self.max]\n",
    "                for x in temp:\n",
    "                    new = [(x,inicial)]\n",
    "                    res += new\n",
    "        return res\n",
    "    \n",
    "    def transicion(self, estado, accion):\n",
    "        '''\n",
    "        Input: estado, una lista que representa un estado del problema del triángulo mágico con n vértices en cada lado\n",
    "               accion, una lista con dos tuplas de la forma (indice_del_elemento, elemento).\n",
    "        Output: lista con la acción ya aplicada\n",
    "        '''\n",
    "        assert len(accion) == 2 and accion[0][1] in self.estado_inicial and accion[1][1] in self.estado_inicial, \"La acción no es válida\"\n",
    "        estado[accion[0][0]] = accion[1][1]\n",
    "        estado[accion[1][0]] = accion[0][1]\n",
    "        return estado\n",
    "    \n",
    "    def test_objetivo(self, estado):\n",
    "        '''\n",
    "        Input: estado, una lista que representa un estado del problema del triángulo mágico con n vértices en cada lado\n",
    "        Output: Booleano que representa si el estado satisface el objetivo del problema\n",
    "        '''\n",
    "        setl=set(estado)\n",
    "        if len(setl) !=len(estado) or (0 in estado):\n",
    "            return False\n",
    "        n = self.vertices\n",
    "        fila1 = [estado[x] for x in range(0,n)]\n",
    "        fila2 = [estado[x] for x in range(n-1,2*n-1)]\n",
    "        fila3 = [estado[x] for x in range(2*(n-1),len(estado))]\n",
    "        fila3.append(estado[0])\n",
    "        matrix = np.matrix([fila1,fila2,fila3]).sum(axis=1)\n",
    "        x = matrix[0]\n",
    "        return (x==matrix).all()\n",
    "        \n",
    "    def costo(self, estado, accion):\n",
    "        '''\n",
    "        Input: estado, una lista que representa un estado del problema del triángulo mágico con n vértices en cada lado\n",
    "               accion, una tupla con dos elementos que representan el índice de un elemento de la lista y el valor con el cual\n",
    "               se va a reemplazar dicho índice.\n",
    "        Output:int, entero positivo que representa el costo de realizar la acción sobre el triángulo\n",
    "        '''\n",
    "        return 1\n",
    "    \n",
    "    def codigo(self, estado):\n",
    "        '''\n",
    "        Input: estado, una lista que representa un estado del problema del triángulo mágico con n vértices en cada lado\n",
    "        Output: string, que representa el estado\n",
    "        '''\n",
    "        assert len(estado) == len(self.estado_inicial), f\"{estado} no es compatible con un triangulo mágico de {self.vertices} vértices\" \n",
    "        cod = ''\n",
    "        for x in estado:\n",
    "            cod += str(x)\n",
    "        return cod       "
   ]
  },
  {
   "cell_type": "code",
   "execution_count": 70,
   "id": "37cea988",
   "metadata": {},
   "outputs": [
    {
     "data": {
      "image/png": "[encoded data removed]",
      "text/plain": [
       "<Figure size 432x288 with 1 Axes>"
      ]
     },
     "metadata": {},
     "output_type": "display_data"
    },
    {
     "data": {
      "image/png": "[encoded data removed]",
      "text/plain": [
       "<Figure size 432x288 with 1 Axes>"
      ]
     },
     "metadata": {},
     "output_type": "display_data"
    }
   ],
   "source": [
    "prob = triangulo_magico()\n",
    "prob.test_objetivo([1,2,3,4,5,6])\n",
    "prob.pintar_estado(prob.estado_inicial)\n",
    "a = prob.acciones_aplicables(prob.estado_inicial)\n",
    "a[0]\n",
    "prob.pintar_estado(prob.transicion(prob.estado_inicial, a[0]))\n"
   ]
  },
  {
   "cell_type": "code",
   "execution_count": 5,
   "id": "e1e8a0b2",
   "metadata": {},
   "outputs": [],
   "source": [
    "def primero_en_anchura(problema):\n",
    "    estado=problema.estado_inicial\n",
    "    if problema.test_objetivo(estado):\n",
    "        return estado\n",
    "    frontera=[estado]\n",
    "    while len(frontera)>0:\n",
    "        estado=frontera.pop(0)\n",
    "        for accion in problema.acciones_aplicables(estado):\n",
    "            hijo=problema.transicion(estado, accion)\n",
    "            if problema.test_objetivo(hijo):\n",
    "                return hijo\n",
    "            frontera.append(hijo)"
   ]
  },
  {
   "cell_type": "code",
   "execution_count": 40,
   "id": "2939544b",
   "metadata": {},
   "outputs": [
    {
     "name": "stdout",
     "output_type": "stream",
     "text": [
      "Buscando solución en anchura...\n"
     ]
    },
    {
     "ename": "KeyboardInterrupt",
     "evalue": "",
     "output_type": "error",
     "traceback": [
      "\u001b[1;31m---------------------------------------------------------------------------\u001b[0m",
      "\u001b[1;31mKeyboardInterrupt\u001b[0m                         Traceback (most recent call last)",
      "\u001b[1;32m<timed exec>\u001b[0m in \u001b[0;36m<module>\u001b[1;34m\u001b[0m\n",
      "\u001b[1;32m~\\AppData\\Local\\Temp\\ipykernel_5108\\2947360530.py\u001b[0m in \u001b[0;36mprimero_en_anchura\u001b[1;34m(problema)\u001b[0m\n\u001b[0;32m      6\u001b[0m     \u001b[1;32mwhile\u001b[0m \u001b[0mlen\u001b[0m\u001b[1;33m(\u001b[0m\u001b[0mfrontera\u001b[0m\u001b[1;33m)\u001b[0m\u001b[1;33m>\u001b[0m\u001b[1;36m0\u001b[0m\u001b[1;33m:\u001b[0m\u001b[1;33m\u001b[0m\u001b[1;33m\u001b[0m\u001b[0m\n\u001b[0;32m      7\u001b[0m         \u001b[0mestado\u001b[0m\u001b[1;33m=\u001b[0m\u001b[0mfrontera\u001b[0m\u001b[1;33m.\u001b[0m\u001b[0mpop\u001b[0m\u001b[1;33m(\u001b[0m\u001b[1;36m0\u001b[0m\u001b[1;33m)\u001b[0m\u001b[1;33m\u001b[0m\u001b[1;33m\u001b[0m\u001b[0m\n\u001b[1;32m----> 8\u001b[1;33m         \u001b[1;32mfor\u001b[0m \u001b[0maccion\u001b[0m \u001b[1;32min\u001b[0m \u001b[0mproblema\u001b[0m\u001b[1;33m.\u001b[0m\u001b[0macciones_aplicables\u001b[0m\u001b[1;33m(\u001b[0m\u001b[0mestado\u001b[0m\u001b[1;33m)\u001b[0m\u001b[1;33m:\u001b[0m\u001b[1;33m\u001b[0m\u001b[1;33m\u001b[0m\u001b[0m\n\u001b[0m\u001b[0;32m      9\u001b[0m             \u001b[0mhijo\u001b[0m\u001b[1;33m=\u001b[0m\u001b[0mproblema\u001b[0m\u001b[1;33m.\u001b[0m\u001b[0mtransicion\u001b[0m\u001b[1;33m(\u001b[0m\u001b[0mestado\u001b[0m\u001b[1;33m,\u001b[0m \u001b[0maccion\u001b[0m\u001b[1;33m)\u001b[0m\u001b[1;33m\u001b[0m\u001b[1;33m\u001b[0m\u001b[0m\n\u001b[0;32m     10\u001b[0m             \u001b[1;32mif\u001b[0m \u001b[0mproblema\u001b[0m\u001b[1;33m.\u001b[0m\u001b[0mtest_objetivo\u001b[0m\u001b[1;33m(\u001b[0m\u001b[0mhijo\u001b[0m\u001b[1;33m)\u001b[0m\u001b[1;33m:\u001b[0m\u001b[1;33m\u001b[0m\u001b[1;33m\u001b[0m\u001b[0m\n",
      "\u001b[1;31mKeyboardInterrupt\u001b[0m: "
     ]
    }
   ],
   "source": [
    "%%time\n",
    "print('Buscando solución en anchura...')\n",
    "l = primero_en_anchura(prob)\n",
    "if l is not None:\n",
    "    print('La solución encontrada es:')\n",
    "    prob.pintar_estado(l)\n",
    "else:\n",
    "    print('No se encontró una solución!')"
   ]
  },
  {
   "cell_type": "code",
   "execution_count": 41,
   "id": "d6827568",
   "metadata": {},
   "outputs": [
    {
     "ename": "NameError",
     "evalue": "name 'l' is not defined",
     "output_type": "error",
     "traceback": [
      "\u001b[1;31m---------------------------------------------------------------------------\u001b[0m",
      "\u001b[1;31mNameError\u001b[0m                                 Traceback (most recent call last)",
      "\u001b[1;32m~\\AppData\\Local\\Temp\\ipykernel_5108\\2689564014.py\u001b[0m in \u001b[0;36m<module>\u001b[1;34m\u001b[0m\n\u001b[1;32m----> 1\u001b[1;33m \u001b[0mprint\u001b[0m\u001b[1;33m(\u001b[0m\u001b[0ml\u001b[0m\u001b[1;33m)\u001b[0m\u001b[1;33m\u001b[0m\u001b[1;33m\u001b[0m\u001b[0m\n\u001b[0m\u001b[0;32m      2\u001b[0m \u001b[0mprob\u001b[0m\u001b[1;33m.\u001b[0m\u001b[0mtest_objetivo\u001b[0m\u001b[1;33m(\u001b[0m\u001b[0ml\u001b[0m\u001b[1;33m)\u001b[0m\u001b[1;33m\u001b[0m\u001b[1;33m\u001b[0m\u001b[0m\n",
      "\u001b[1;31mNameError\u001b[0m: name 'l' is not defined"
     ]
    }
   ],
   "source": [
    "print(l)\n",
    "prob.test_objetivo(l)"
   ]
  },
  {
   "cell_type": "code",
   "execution_count": 6,
   "id": "99bfddfd",
   "metadata": {},
   "outputs": [
    {
     "ename": "TypeError",
     "evalue": "codigo() missing 1 required positional argument: 'estado'",
     "output_type": "error",
     "traceback": [
      "\u001b[1;31m---------------------------------------------------------------------------\u001b[0m",
      "\u001b[1;31mTypeError\u001b[0m                                 Traceback (most recent call last)",
      "\u001b[1;32m~\\AppData\\Local\\Temp/ipykernel_2784/1440954555.py\u001b[0m in \u001b[0;36m<module>\u001b[1;34m\u001b[0m\n\u001b[0;32m      1\u001b[0m \u001b[0mp\u001b[0m \u001b[1;33m=\u001b[0m \u001b[0mtriangulo_magico\u001b[0m\u001b[1;33m(\u001b[0m\u001b[1;36m5\u001b[0m\u001b[1;33m)\u001b[0m\u001b[1;33m\u001b[0m\u001b[1;33m\u001b[0m\u001b[0m\n\u001b[1;32m----> 2\u001b[1;33m \u001b[0mp\u001b[0m\u001b[1;33m.\u001b[0m\u001b[0mcodigo\u001b[0m\u001b[1;33m(\u001b[0m\u001b[1;33m)\u001b[0m\u001b[1;33m\u001b[0m\u001b[1;33m\u001b[0m\u001b[0m\n\u001b[0m\u001b[0;32m      3\u001b[0m \u001b[0mprint\u001b[0m\u001b[1;33m(\u001b[0m\u001b[0mlen\u001b[0m\u001b[1;33m(\u001b[0m\u001b[0mp\u001b[0m\u001b[1;33m.\u001b[0m\u001b[0mestado_inicial\u001b[0m\u001b[1;33m)\u001b[0m\u001b[1;33m)\u001b[0m\u001b[1;33m\u001b[0m\u001b[1;33m\u001b[0m\u001b[0m\n\u001b[0;32m      4\u001b[0m \u001b[0mp\u001b[0m\u001b[1;33m.\u001b[0m\u001b[0mpintar_estado\u001b[0m\u001b[1;33m(\u001b[0m\u001b[1;33m[\u001b[0m\u001b[0mi\u001b[0m \u001b[1;32mfor\u001b[0m \u001b[0mi\u001b[0m \u001b[1;32min\u001b[0m \u001b[0mrange\u001b[0m\u001b[1;33m(\u001b[0m\u001b[1;36m12\u001b[0m\u001b[1;33m)\u001b[0m\u001b[1;33m]\u001b[0m\u001b[1;33m)\u001b[0m\u001b[1;33m\u001b[0m\u001b[1;33m\u001b[0m\u001b[0m\n",
      "\u001b[1;31mTypeError\u001b[0m: codigo() missing 1 required positional argument: 'estado'"
     ]
    }
   ],
   "source": [
    "p = triangulo_magico(5)\n",
    "p.codigo()\n",
    "print(len(p.estado_inicial))\n",
    "p.pintar_estado([i for i in range(12)])"
   ]
  },
  {
   "cell_type": "code",
   "execution_count": 86,
   "id": "983d7106",
   "metadata": {},
   "outputs": [],
   "source": [
    "from collections import namedtuple\n",
    "\n",
    "Tupla = namedtuple('Tupla', ['elemento', 'valor'])\n",
    "class ListaPrioritaria():\n",
    "    \n",
    "    def __init__(self):\n",
    "        self.pila = []\n",
    "        \n",
    "    def __len__(self):\n",
    "        return len(self.pila)\n",
    "\n",
    "    def push(self, elemento, valor):\n",
    "        tupla = Tupla(elemento, valor)\n",
    "        self.pila.append(tupla)\n",
    "        self.pila.sort(key=lambda x: x[1])\n",
    "            \n",
    "    def pop(self):\n",
    "        return self.pila.pop(0)[0]\n",
    "    \n",
    "    def is_empty(self):\n",
    "        return len(self.pila) == 0\n",
    "    \n",
    "    def __len__(self):\n",
    "        return len(self.pila)\n",
    "\n",
    "    def __str__(self):\n",
    "        cadena = '['\n",
    "        inicial = True\n",
    "        for elemento, valor in self.pila:\n",
    "            if inicial:\n",
    "                cadena += '(' + str(elemento) + ',' + str(valor) + ')'\n",
    "                inicial = False\n",
    "            else:\n",
    "                cadena += ', (' + str(elemento) + ',' + str(valor) + ')'\n",
    "        return cadena + ']'"
   ]
  },
  {
   "cell_type": "code",
   "execution_count": 92,
   "id": "bf322c40",
   "metadata": {},
   "outputs": [],
   "source": [
    "def avara(problema):\n",
    "    #Fijar el elemento más grande en una esquina\n",
    "    s=problema.estado_inicial\n",
    "    e_max= max(problema.estado_inicial)\n",
    "    i_max = s.index(e_max)\n",
    "    e_0 = s[0]\n",
    "    s[0] = e_max\n",
    "    s[i_max] = e_0\n",
    "    \n",
    "    nodo=Nodo(s, None, None, 0, problema.codigo(s))\n",
    "    v=problema.heuristica(s)\n",
    "    frontera = ListaPrioritaria()\n",
    "    frontera.push(nodo, v)\n",
    "    while frontera:\n",
    "        nodo=frontera.pop()\n",
    "        if problema.test_objetivo(nodo.estado):\n",
    "            return nodo\n",
    "        for hijo in expand(problema, nodo):\n",
    "            s=hijo.estado\n",
    "            v=problema.heuristica(s)\n",
    "            if not is_cycle(hijo):\n",
    "                frontera.push(hijo, v)\n",
    "    return None"
   ]
  },
  {
   "cell_type": "markdown",
   "id": "d3ba0bfa",
   "metadata": {},
   "source": [
    "## Heurística"
   ]
  },
  {
   "cell_type": "code",
   "execution_count": 29,
   "id": "17a80071",
   "metadata": {},
   "outputs": [],
   "source": [
    "def delta(self,estado):\n",
    "        n = self.vertices\n",
    "        fila1 = [estado[x] for x in range(0,n)]\n",
    "        fila2 = [estado[x] for x in range(n-1,2*n-1)]\n",
    "        fila3 = [estado[x] for x in range(2*(n-1),len(estado))]\n",
    "        fila3.append(estado[0])\n",
    "        res=abs(sum(fila1)-sum(fila2))+abs(sum(fila1)-sum(fila3))+abs(sum(fila2)-sum(fila3))\n",
    "        return res"
   ]
  },
  {
   "cell_type": "code",
   "execution_count": 9,
   "id": "b33d9df8",
   "metadata": {},
   "outputs": [],
   "source": [
    "setattr(triangulo_magico, 'heuristica', delta)"
   ]
  },
  {
   "cell_type": "code",
   "execution_count": 11,
   "id": "d1bf2084",
   "metadata": {},
   "outputs": [
    {
     "data": {
      "image/png": "[encoded data removed]",
      "text/plain": [
       "<Figure size 432x288 with 1 Axes>"
      ]
     },
     "metadata": {},
     "output_type": "display_data"
    },
    {
     "name": "stdout",
     "output_type": "stream",
     "text": [
      "el valor delta de s1: 12\n"
     ]
    }
   ],
   "source": [
    "puz = triangulo_magico()\n",
    "# Hacemos las comprobaciones\n",
    "s1 = [3,1,2,6,4,5]\n",
    "puz.pintar_estado(s1)\n",
    "print('el valor delta de s1:', puz.heuristica(s1))"
   ]
  },
  {
   "cell_type": "code",
   "execution_count": 12,
   "id": "5408ec63",
   "metadata": {},
   "outputs": [
    {
     "data": {
      "image/png": "[encoded data removed]",
      "text/plain": [
       "<Figure size 432x288 with 1 Axes>"
      ]
     },
     "metadata": {},
     "output_type": "display_data"
    },
    {
     "name": "stdout",
     "output_type": "stream",
     "text": [
      "el valor delta de s2: 14\n"
     ]
    }
   ],
   "source": [
    "s2 = [3,2,1,5,4,6]\n",
    "puz.pintar_estado(s2)\n",
    "print('el valor delta de s2:', puz.heuristica(s2))"
   ]
  },
  {
   "cell_type": "code",
   "execution_count": 47,
   "id": "dc403996",
   "metadata": {},
   "outputs": [
    {
     "name": "stdout",
     "output_type": "stream",
     "text": [
      "el valor delta de s3: 6\n"
     ]
    },
    {
     "data": {
      "image/png": "[encoded data removed]",
      "text/plain": [
       "<Figure size 640x480 with 1 Axes>"
      ]
     },
     "metadata": {},
     "output_type": "display_data"
    }
   ],
   "source": [
    "s3 = [6, 3, 2,7, 4, 0]\n",
    "print('el valor delta de s3:', puz.heuristica(s3))\n",
    "puz.pintar_estado(s3)"
   ]
  },
  {
   "cell_type": "markdown",
   "id": "ee2be55f",
   "metadata": {},
   "source": [
    "### minimos cuadrados (GAMMA)\n"
   ]
  },
  {
   "cell_type": "code",
   "execution_count": 79,
   "id": "e0503153",
   "metadata": {},
   "outputs": [],
   "source": [
    "def gamma(self,estado):\n",
    "        n = self.vertices\n",
    "        fila1 = [estado[x] for x in range(0,n)]\n",
    "        fila2 = [estado[x] for x in range(n-1,2*n-1)]\n",
    "        fila3 = [estado[x] for x in range(2*(n-1),len(estado))]\n",
    "        fila3.append(estado[0])\n",
    "        res=(sum(fila1)-sum(fila2))**2+(sum(fila1)-sum(fila3))**2+(sum(fila2)-sum(fila3))**2\n",
    "        return res"
   ]
  },
  {
   "cell_type": "code",
   "execution_count": 14,
   "id": "6de1f4ad",
   "metadata": {},
   "outputs": [],
   "source": [
    "setattr(triangulo_magico, 'heuristica', gamma)"
   ]
  },
  {
   "cell_type": "code",
   "execution_count": 15,
   "id": "ff7f0c3b",
   "metadata": {},
   "outputs": [
    {
     "data": {
      "image/png": "[encoded data removed]",
      "text/plain": [
       "<Figure size 432x288 with 1 Axes>"
      ]
     },
     "metadata": {},
     "output_type": "display_data"
    },
    {
     "name": "stdout",
     "output_type": "stream",
     "text": [
      "el valor cuadrado de s1: 72\n"
     ]
    }
   ],
   "source": [
    "puz = triangulo_magico()\n",
    "# Hacemos las comprobaciones\n",
    "s1 = [3,1,2,6,4,5]\n",
    "puz.pintar_estado(s1)\n",
    "print('el valor cuadrado de s1:', puz.heuristica(s1))"
   ]
  },
  {
   "cell_type": "code",
   "execution_count": 16,
   "id": "161fa616",
   "metadata": {},
   "outputs": [
    {
     "data": {
      "image/png": "[encoded data removed]",
      "text/plain": [
       "<Figure size 432x288 with 1 Axes>"
      ]
     },
     "metadata": {},
     "output_type": "display_data"
    },
    {
     "name": "stdout",
     "output_type": "stream",
     "text": [
      "el valor cuadrado de s2: 74\n"
     ]
    }
   ],
   "source": [
    "s2 = [3,2,1,5,4,6]\n",
    "puz.pintar_estado(s2)\n",
    "print('el valor cuadrado de s2:', puz.heuristica(s2))"
   ]
  },
  {
   "cell_type": "code",
   "execution_count": 17,
   "id": "f1504505",
   "metadata": {},
   "outputs": [
    {
     "name": "stdout",
     "output_type": "stream",
     "text": [
      "el valor cuadrado de s3: 14\n"
     ]
    },
    {
     "data": {
      "image/png": "[encoded data removed]",
      "text/plain": [
       "<Figure size 432x288 with 1 Axes>"
      ]
     },
     "metadata": {},
     "output_type": "display_data"
    }
   ],
   "source": [
    "s3 = [6,3,2,7,4,0]\n",
    "print('el valor cuadrado de s3:', puz.heuristica(s3))\n",
    "puz.pintar_estado(s3)"
   ]
  },
  {
   "cell_type": "code",
   "execution_count": 93,
   "id": "92580ff7",
   "metadata": {},
   "outputs": [],
   "source": [
    "\n",
    "# Definimos los triangulos a evaluar\n",
    "init = [x for x in range(1,7)]\n",
    "estados = []\n",
    "for x in range(0,5):\n",
    "    random.shuffle(init)\n",
    "    s1 = init\n",
    "    estados.append(s1)\n",
    "# Definimos las heurísticas\n",
    "heuristicas = [delta, gamma]\n",
    "nombres = ['delta', 'gamma']\n",
    "# Creamos el test suite\n",
    "lista_tests, lista_nombres = test_suite_heuristicas_triangulos(estados, heuristicas, nombres)\n",
    "lista_funs = [avara]*len(lista_tests)"
   ]
  },
  {
   "cell_type": "code",
   "execution_count": null,
   "id": "a1b6b188",
   "metadata": {},
   "outputs": [],
   "source": [
    "%%time\n",
    "data = compara_funciones(lista_funs=lista_funs, \n",
    "                         lista_args=lista_tests, \n",
    "                         lista_nombres=lista_nombres, \n",
    "                         num_it=10)\n",
    "data.groupby('Función').agg({'tiempo_CPU':['mean', 'std']})"
   ]
  },
  {
   "cell_type": "code",
   "execution_count": null,
   "id": "0c008f0e",
   "metadata": {},
   "outputs": [],
   "source": []
  }
 ],
 "metadata": {
  "kernelspec": {
   "display_name": "Python 3 (ipykernel)",
   "language": "python",
   "name": "python3"
  },
  "language_info": {
   "codemirror_mode": {
    "name": "ipython",
    "version": 3
   },
   "file_extension": ".py",
   "mimetype": "text/x-python",
   "name": "python",
   "nbconvert_exporter": "python",
   "pygments_lexer": "ipython3",
   "version": "3.8.8"
  }
 },
 "nbformat": 4,
 "nbformat_minor": 5
}
