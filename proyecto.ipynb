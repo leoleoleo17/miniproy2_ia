{
 "cells": [
  {
   "cell_type": "code",
   "execution_count": 18,
   "id": "1e1d0981",
   "metadata": {},
   "outputs": [],
   "source": [
    "import numpy as np\n",
    "import networkx as nx\n",
    "import matplotlib.pyplot as plt\n",
    "class triangulo_magico:\n",
    "    '''\n",
    "    @Autores: Juan Esteban Gonzalez y Leonardo Luengas\n",
    "    \n",
    "    Clase que construye un triangulo mágico con n nodos en cada arista.\n",
    "    Objetivo: Encontrar una asignación de los números naturales del 1 hasta el 3(n-1) de tal forma que la suma de todos los\n",
    "    números en cada arista sea igual y no se repitan números en ningún nodo.\n",
    "    Input: n, numero de vértices por lado\n",
    "    Output: triángulo mágico de n vértices por lado\n",
    "    '''\n",
    "    def __init__(self, n=3):\n",
    "        '''\n",
    "        Inicializa el triángulo mágico con 0 en cada uno de los nodos de las aristas y n vértices en cada lado.\n",
    "        '''\n",
    "        self.estado_inicial=[0 for x in range(3*(n-1))]\n",
    "        self.vertices = n\n",
    "        \n",
    "    def pintar_estado(self,estado):\n",
    "        '''\n",
    "        Input: recibe una lista que representa un estado del triángulo mágico con n vértices en cada lado\n",
    "        Output: Dibuja la representación gráfica del triángulo mágico\n",
    "        '''\n",
    "        assert len(estado) == len(self.estado_inicial), f\"{estado} no es compatible con un triangulo mágico de {self.vertices} vértices\" \n",
    "        G = nx.Graph()\n",
    "        G.add_nodes_from(estado)\n",
    "        estado1 = estado[1:]\n",
    "        estado1.append(estado[0])\n",
    "        E = [e for e in zip(estado,estado1)]\n",
    "        G.add_edges_from(E)\n",
    "        order = {}\n",
    "        n = self.vertices\n",
    "        for i in range(n):\n",
    "            e1 = estado[i]\n",
    "            e2 = estado[i+n-1]\n",
    "            e3 = estado[i+2*(n-1)-1]\n",
    "            order[e1] = [i,0]\n",
    "            order[e2] = [(n-1)-(i/2),(np.sqrt(3)*i)/2]\n",
    "            order[e3] = [(n-i)/2,(np.sqrt(3)*(n-i))/2]\n",
    "        nx.draw_networkx(G,pos=order)\n",
    "        plt.show()\n",
    "        \n",
    "    def acciones_aplicables(self, estado):\n",
    "        '''\n",
    "        Input: estado, una lista que representa el triángulo mágico con n vértices en cada lado\n",
    "        Output: Una lista con todas las parejas ordenadas que se pueden generar\n",
    "        '''\n",
    "        assert len(estado) == len(self.estado_inicial), f\"{estado} no es compatible con un triangulo mágico de {self.vertices} vértices\" \n",
    "        res = []\n",
    "        tot = 3*(self.vertices-1)+1\n",
    "        for x, v in enumerate(estado):\n",
    "            temp = [(x,y) for y in range(1,tot) if v != y]\n",
    "            res = res + temp\n",
    "        return res\n",
    "    \n",
    "    def transicion(self, estado, accion):\n",
    "        '''\n",
    "        Input: estado, una lista que representa un estado del problema del triángulo mágico con n vértices en cada lado\n",
    "               accion, una tupla con dos elementos que representan el índice de un elemento de la lista y el valor con el cual\n",
    "               se va a reemplazar dicho índice.\n",
    "        Output: lista con la acción ya aplicada\n",
    "        '''\n",
    "        estado[accion[0]]=accion[1]\n",
    "        return estado\n",
    "    \n",
    "    def test_objetivo(self, estado):\n",
    "        '''\n",
    "        Input: estado, una lista que representa un estado del problema del triángulo mágico con n vértices en cada lado\n",
    "        Output: Booleano que representa si el estado satisface el objetivo del problema\n",
    "        '''\n",
    "        setl=set(estado)\n",
    "        if len(setl) !=len(estado) or (0 in estado):\n",
    "            return False\n",
    "        n = self.vertices\n",
    "        fila1 = [estado[x] for x in range(0,n)]\n",
    "        fila2 = [estado[x] for x in range(n-1,2*n-1)]\n",
    "        fila3 = [estado[x] for x in range(2*(n-1),len(estado))]\n",
    "        fila3.append(estado[0])\n",
    "        matrix = np.matrix([fila1,fila2,fila3]).sum(axis=1)\n",
    "        x = matrix[0]\n",
    "        return (x==matrix).all()\n",
    "        \n",
    "    def costo(self, estado, accion):\n",
    "        '''\n",
    "        Input: estado, una lista que representa un estado del problema del triángulo mágico con n vértices en cada lado\n",
    "               accion, una tupla con dos elementos que representan el índice de un elemento de la lista y el valor con el cual\n",
    "               se va a reemplazar dicho índice.\n",
    "        Output:int, entero positivo que representa el costo de realizar la acción sobre el triángulo\n",
    "        '''\n",
    "        return 1\n",
    "    \n",
    "    def codigo(self, estado):\n",
    "        '''\n",
    "        Input: estado, una lista que representa un estado del problema del triángulo mágico con n vértices en cada lado\n",
    "        Output: string, que representa el estado\n",
    "        '''\n",
    "        assert len(estado) == len(self.estado_inicial), f\"{estado} no es compatible con un triangulo mágico de {self.vertices} vértices\" \n",
    "        cod = ''\n",
    "        for x in estado:\n",
    "            cod += str(x)\n",
    "        return cod       "
   ]
  },
  {
   "cell_type": "code",
   "execution_count": 19,
   "id": "37cea988",
   "metadata": {},
   "outputs": [
    {
     "data": {
      "image/png": "[encoded data removed]",
      "text/plain": [
       "<Figure size 432x288 with 1 Axes>"
      ]
     },
     "metadata": {},
     "output_type": "display_data"
    },
    {
     "data": {
      "image/png": "[encoded data removed]",
      "text/plain": [
       "<Figure size 432x288 with 1 Axes>"
      ]
     },
     "metadata": {},
     "output_type": "display_data"
    }
   ],
   "source": [
    "prob = triangulo_magico()\n",
    "prob.test_objetivo([1,2,3,4,5,6])\n",
    "prob.pintar_estado([1,2,3,4,5,6])\n",
    "prob.pintar_estado([9,2,3,4,7,6])"
   ]
  },
  {
   "cell_type": "code",
   "execution_count": 6,
   "id": "e1e8a0b2",
   "metadata": {},
   "outputs": [],
   "source": [
    "def primero_en_anchura(problema):\n",
    "    estado=problema.estado_inicial\n",
    "    if problema.test_objetivo(estado):\n",
    "        return estado\n",
    "    frontera=[estado]\n",
    "    while len(frontera)>0:\n",
    "        estado=frontera.pop(0)\n",
    "        for accion in problema.acciones_aplicables(estado):\n",
    "            hijo=problema.transicion(estado, accion)\n",
    "            if problema.test_objetivo(hijo):\n",
    "                return hijo\n",
    "            frontera.append(hijo)"
   ]
  },
  {
   "cell_type": "code",
   "execution_count": 36,
   "id": "2939544b",
   "metadata": {},
   "outputs": [
    {
     "name": "stdout",
     "output_type": "stream",
     "text": [
      "Buscando solución en anchura...\n",
      "La solución encontrada es:\n"
     ]
    },
    {
     "ename": "ValueError",
     "evalue": "all nodes must have subset_key (default='subset') as data",
     "output_type": "error",
     "traceback": [
      "\u001b[1;31m---------------------------------------------------------------------------\u001b[0m",
      "\u001b[1;31mKeyError\u001b[0m                                  Traceback (most recent call last)",
      "\u001b[1;32m~\\anaconda3\\lib\\site-packages\\networkx\\drawing\\layout.py\u001b[0m in \u001b[0;36mmultipartite_layout\u001b[1;34m(G, subset_key, align, scale, center)\u001b[0m\n\u001b[0;32m   1084\u001b[0m         \u001b[1;32mtry\u001b[0m\u001b[1;33m:\u001b[0m\u001b[1;33m\u001b[0m\u001b[1;33m\u001b[0m\u001b[0m\n\u001b[1;32m-> 1085\u001b[1;33m             \u001b[0mlayer\u001b[0m \u001b[1;33m=\u001b[0m \u001b[0mdata\u001b[0m\u001b[1;33m[\u001b[0m\u001b[0msubset_key\u001b[0m\u001b[1;33m]\u001b[0m\u001b[1;33m\u001b[0m\u001b[1;33m\u001b[0m\u001b[0m\n\u001b[0m\u001b[0;32m   1086\u001b[0m         \u001b[1;32mexcept\u001b[0m \u001b[0mKeyError\u001b[0m\u001b[1;33m:\u001b[0m\u001b[1;33m\u001b[0m\u001b[1;33m\u001b[0m\u001b[0m\n",
      "\u001b[1;31mKeyError\u001b[0m: 'subset'",
      "\nDuring handling of the above exception, another exception occurred:\n",
      "\u001b[1;31mValueError\u001b[0m                                Traceback (most recent call last)",
      "\u001b[1;32m<timed exec>\u001b[0m in \u001b[0;36m<module>\u001b[1;34m\u001b[0m\n",
      "\u001b[1;32m~\\AppData\\Local\\Temp/ipykernel_5444/3925224098.py\u001b[0m in \u001b[0;36mpintar_estado\u001b[1;34m(self, estado)\u001b[0m\n\u001b[0;32m     28\u001b[0m         \u001b[0mE\u001b[0m \u001b[1;33m=\u001b[0m \u001b[1;33m[\u001b[0m\u001b[0me\u001b[0m \u001b[1;32mfor\u001b[0m \u001b[0me\u001b[0m \u001b[1;32min\u001b[0m \u001b[0mzip\u001b[0m\u001b[1;33m(\u001b[0m\u001b[0mestado\u001b[0m\u001b[1;33m,\u001b[0m\u001b[0mestado1\u001b[0m\u001b[1;33m)\u001b[0m\u001b[1;33m]\u001b[0m\u001b[1;33m\u001b[0m\u001b[1;33m\u001b[0m\u001b[0m\n\u001b[0;32m     29\u001b[0m         \u001b[0mG\u001b[0m\u001b[1;33m.\u001b[0m\u001b[0madd_edges_from\u001b[0m\u001b[1;33m(\u001b[0m\u001b[0mE\u001b[0m\u001b[1;33m)\u001b[0m\u001b[1;33m\u001b[0m\u001b[1;33m\u001b[0m\u001b[0m\n\u001b[1;32m---> 30\u001b[1;33m         \u001b[0morder\u001b[0m \u001b[1;33m=\u001b[0m\u001b[0mnx\u001b[0m\u001b[1;33m.\u001b[0m\u001b[0mmultipartite_layout\u001b[0m\u001b[1;33m(\u001b[0m\u001b[0mG\u001b[0m\u001b[1;33m)\u001b[0m\u001b[1;33m\u001b[0m\u001b[1;33m\u001b[0m\u001b[0m\n\u001b[0m\u001b[0;32m     31\u001b[0m         \u001b[0mprint\u001b[0m\u001b[1;33m(\u001b[0m\u001b[0morder\u001b[0m\u001b[1;33m)\u001b[0m\u001b[1;33m\u001b[0m\u001b[1;33m\u001b[0m\u001b[0m\n\u001b[0;32m     32\u001b[0m     \u001b[1;32mdef\u001b[0m \u001b[0macciones_aplicables\u001b[0m\u001b[1;33m(\u001b[0m\u001b[0mself\u001b[0m\u001b[1;33m,\u001b[0m \u001b[0mestado\u001b[0m\u001b[1;33m)\u001b[0m\u001b[1;33m:\u001b[0m\u001b[1;33m\u001b[0m\u001b[1;33m\u001b[0m\u001b[0m\n",
      "\u001b[1;32m~\\anaconda3\\lib\\site-packages\\networkx\\drawing\\layout.py\u001b[0m in \u001b[0;36mmultipartite_layout\u001b[1;34m(G, subset_key, align, scale, center)\u001b[0m\n\u001b[0;32m   1086\u001b[0m         \u001b[1;32mexcept\u001b[0m \u001b[0mKeyError\u001b[0m\u001b[1;33m:\u001b[0m\u001b[1;33m\u001b[0m\u001b[1;33m\u001b[0m\u001b[0m\n\u001b[0;32m   1087\u001b[0m             \u001b[0mmsg\u001b[0m \u001b[1;33m=\u001b[0m \u001b[1;34m\"all nodes must have subset_key (default='subset') as data\"\u001b[0m\u001b[1;33m\u001b[0m\u001b[1;33m\u001b[0m\u001b[0m\n\u001b[1;32m-> 1088\u001b[1;33m             \u001b[1;32mraise\u001b[0m \u001b[0mValueError\u001b[0m\u001b[1;33m(\u001b[0m\u001b[0mmsg\u001b[0m\u001b[1;33m)\u001b[0m\u001b[1;33m\u001b[0m\u001b[1;33m\u001b[0m\u001b[0m\n\u001b[0m\u001b[0;32m   1089\u001b[0m         \u001b[0mlayers\u001b[0m\u001b[1;33m[\u001b[0m\u001b[0mlayer\u001b[0m\u001b[1;33m]\u001b[0m \u001b[1;33m=\u001b[0m \u001b[1;33m[\u001b[0m\u001b[0mv\u001b[0m\u001b[1;33m]\u001b[0m \u001b[1;33m+\u001b[0m \u001b[0mlayers\u001b[0m\u001b[1;33m.\u001b[0m\u001b[0mget\u001b[0m\u001b[1;33m(\u001b[0m\u001b[0mlayer\u001b[0m\u001b[1;33m,\u001b[0m \u001b[1;33m[\u001b[0m\u001b[1;33m]\u001b[0m\u001b[1;33m)\u001b[0m\u001b[1;33m\u001b[0m\u001b[1;33m\u001b[0m\u001b[0m\n\u001b[0;32m   1090\u001b[0m \u001b[1;33m\u001b[0m\u001b[0m\n",
      "\u001b[1;31mValueError\u001b[0m: all nodes must have subset_key (default='subset') as data"
     ]
    }
   ],
   "source": [
    "%%time\n",
    "print('Buscando solución en anchura...')\n",
    "l = primero_en_anchura(prob)\n",
    "if l is not None:\n",
    "    print('La solución encontrada es:')\n",
    "    prob.pintar_estado(l)\n",
    "else:\n",
    "    print('No se encontró una solución!')"
   ]
  },
  {
   "cell_type": "code",
   "execution_count": 7,
   "id": "d6827568",
   "metadata": {},
   "outputs": [
    {
     "ename": "NameError",
     "evalue": "name 'l' is not defined",
     "output_type": "error",
     "traceback": [
      "\u001b[1;31m---------------------------------------------------------------------------\u001b[0m",
      "\u001b[1;31mNameError\u001b[0m                                 Traceback (most recent call last)",
      "\u001b[1;32m~\\AppData\\Local\\Temp/ipykernel_16952/2689564014.py\u001b[0m in \u001b[0;36m<module>\u001b[1;34m\u001b[0m\n\u001b[1;32m----> 1\u001b[1;33m \u001b[0mprint\u001b[0m\u001b[1;33m(\u001b[0m\u001b[0ml\u001b[0m\u001b[1;33m)\u001b[0m\u001b[1;33m\u001b[0m\u001b[1;33m\u001b[0m\u001b[0m\n\u001b[0m\u001b[0;32m      2\u001b[0m \u001b[0mprob\u001b[0m\u001b[1;33m.\u001b[0m\u001b[0mtest_objetivo\u001b[0m\u001b[1;33m(\u001b[0m\u001b[0ml\u001b[0m\u001b[1;33m)\u001b[0m\u001b[1;33m\u001b[0m\u001b[1;33m\u001b[0m\u001b[0m\n",
      "\u001b[1;31mNameError\u001b[0m: name 'l' is not defined"
     ]
    }
   ],
   "source": [
    "print(l)\n",
    "prob.test_objetivo(l)"
   ]
  },
  {
   "cell_type": "code",
   "execution_count": 1,
   "id": "99bfddfd",
   "metadata": {},
   "outputs": [
    {
     "ename": "NameError",
     "evalue": "name 'triangulo_magico' is not defined",
     "output_type": "error",
     "traceback": [
      "\u001b[1;31m---------------------------------------------------------------------------\u001b[0m",
      "\u001b[1;31mNameError\u001b[0m                                 Traceback (most recent call last)",
      "\u001b[1;32m~\\AppData\\Local\\Temp/ipykernel_2740/1440954555.py\u001b[0m in \u001b[0;36m<module>\u001b[1;34m\u001b[0m\n\u001b[1;32m----> 1\u001b[1;33m \u001b[0mp\u001b[0m \u001b[1;33m=\u001b[0m \u001b[0mtriangulo_magico\u001b[0m\u001b[1;33m(\u001b[0m\u001b[1;36m5\u001b[0m\u001b[1;33m)\u001b[0m\u001b[1;33m\u001b[0m\u001b[1;33m\u001b[0m\u001b[0m\n\u001b[0m\u001b[0;32m      2\u001b[0m \u001b[0mp\u001b[0m\u001b[1;33m.\u001b[0m\u001b[0mcodigo\u001b[0m\u001b[1;33m(\u001b[0m\u001b[1;33m)\u001b[0m\u001b[1;33m\u001b[0m\u001b[1;33m\u001b[0m\u001b[0m\n\u001b[0;32m      3\u001b[0m \u001b[0mprint\u001b[0m\u001b[1;33m(\u001b[0m\u001b[0mlen\u001b[0m\u001b[1;33m(\u001b[0m\u001b[0mp\u001b[0m\u001b[1;33m.\u001b[0m\u001b[0mestado_inicial\u001b[0m\u001b[1;33m)\u001b[0m\u001b[1;33m)\u001b[0m\u001b[1;33m\u001b[0m\u001b[1;33m\u001b[0m\u001b[0m\n\u001b[0;32m      4\u001b[0m \u001b[0mp\u001b[0m\u001b[1;33m.\u001b[0m\u001b[0mpintar_estado\u001b[0m\u001b[1;33m(\u001b[0m\u001b[1;33m[\u001b[0m\u001b[0mi\u001b[0m \u001b[1;32mfor\u001b[0m \u001b[0mi\u001b[0m \u001b[1;32min\u001b[0m \u001b[0mrange\u001b[0m\u001b[1;33m(\u001b[0m\u001b[1;36m12\u001b[0m\u001b[1;33m)\u001b[0m\u001b[1;33m]\u001b[0m\u001b[1;33m)\u001b[0m\u001b[1;33m\u001b[0m\u001b[1;33m\u001b[0m\u001b[0m\n",
      "\u001b[1;31mNameError\u001b[0m: name 'triangulo_magico' is not defined"
     ]
    }
   ],
   "source": [
    "p = triangulo_magico(5)\n",
    "p.codigo()\n",
    "print(len(p.estado_inicial))\n",
    "p.pintar_estado([i for i in range(12)])"
   ]
  }
 ],
 "metadata": {
  "kernelspec": {
   "display_name": "Python 3 (ipykernel)",
   "language": "python",
   "name": "python3"
  },
  "language_info": {
   "codemirror_mode": {
    "name": "ipython",
    "version": 3
   },
   "file_extension": ".py",
   "mimetype": "text/x-python",
   "name": "python",
   "nbconvert_exporter": "python",
   "pygments_lexer": "ipython3",
   "version": "3.8.8"
  }
 },
 "nbformat": 4,
 "nbformat_minor": 5
}
